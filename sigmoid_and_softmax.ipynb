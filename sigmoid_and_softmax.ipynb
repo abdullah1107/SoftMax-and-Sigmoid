{
 "cells": [
  {
   "cell_type": "code",
   "execution_count": 1,
   "metadata": {},
   "outputs": [],
   "source": [
    "import numpy as np"
   ]
  },
  {
   "cell_type": "code",
   "execution_count": 2,
   "metadata": {},
   "outputs": [],
   "source": [
    "def sigmoid(inputs):\n",
    "    sigmoid_score = []\n",
    "    for x in inputs:\n",
    "        sigmoid_score.append(1/float(1 + np.exp(-x)))\n",
    "    return sigmoid_score"
   ]
  },
  {
   "cell_type": "code",
   "execution_count": 4,
   "metadata": {},
   "outputs": [
    {
     "name": "stdout",
     "output_type": "stream",
     "text": [
      "Sigmoid Function Output [0.8807970779778823, 0.9525741268224334, 0.9933071490757153, 0.9975273768433653]\n"
     ]
    }
   ],
   "source": [
    "sigmoid_inputs = [2,3,5,6]\n",
    "print('Sigmoid Function Output', sigmoid(sigmoid_inputs))"
   ]
  },
  {
   "cell_type": "code",
   "execution_count": 8,
   "metadata": {},
   "outputs": [],
   "source": [
    "import matplotlib.pyplot as plt"
   ]
  },
  {
   "cell_type": "code",
   "execution_count": 9,
   "metadata": {},
   "outputs": [],
   "source": [
    "def line_graph(x, y, x_title, y_title):\n",
    "    \"\"\"\n",
    "    Draw line graph with x and y values\n",
    "    :param x:\n",
    "    :param y:\n",
    "    :param x_title:\n",
    "    :param y_title:\n",
    "    :return:\n",
    "    \"\"\"\n",
    "    plt.plot(x, y)\n",
    "    plt.xlabel(x_title)\n",
    "    plt.ylabel(y_title)\n",
    "    plt.show()"
   ]
  },
  {
   "cell_type": "code",
   "execution_count": 11,
   "metadata": {},
   "outputs": [
    {
     "data": {
      "image/png": "[encoded data removed]",
      "text/plain": [
       "<Figure size 432x288 with 1 Axes>"
      ]
     },
     "metadata": {
      "needs_background": "light"
     },
     "output_type": "display_data"
    }
   ],
   "source": [
    "graph_x = range(0, 21)\n",
    "graph_y = sigmoid(graph_x)\n",
    "\n",
    "line_graph(graph_x, graph_y, \"Inputs\", \"Sigmoid Scores\")"
   ]
  },
  {
   "cell_type": "code",
   "execution_count": 12,
   "metadata": {},
   "outputs": [],
   "source": [
    "def softmax(input):\n",
    "    return np.exp(input)/float(sum(np.exp(input)))"
   ]
  },
  {
   "cell_type": "code",
   "execution_count": 15,
   "metadata": {},
   "outputs": [],
   "source": [
    "softmax_inputs = [2, 3,5,6]\n",
    "calculated_output = softmax(softmax_inputs)"
   ]
  },
  {
   "cell_type": "code",
   "execution_count": 17,
   "metadata": {},
   "outputs": [
    {
     "name": "stdout",
     "output_type": "stream",
     "text": [
      "1.0\n"
     ]
    }
   ],
   "source": [
    "print (sum(calculated_output))"
   ]
  },
  {
   "cell_type": "code",
   "execution_count": null,
   "metadata": {},
   "outputs": [],
   "source": []
  }
 ],
 "metadata": {
  "kernelspec": {
   "display_name": "Python 3",
   "language": "python",
   "name": "python3"
  },
  "language_info": {
   "codemirror_mode": {
    "name": "ipython",
    "version": 3
   },
   "file_extension": ".py",
   "mimetype": "text/x-python",
   "name": "python",
   "nbconvert_exporter": "python",
   "pygments_lexer": "ipython3",
   "version": "3.7.2"
  }
 },
 "nbformat": 4,
 "nbformat_minor": 2
}
